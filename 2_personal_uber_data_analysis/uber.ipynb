{
 "cells": [
  {
   "cell_type": "markdown",
   "metadata": {},
   "source": [
    "# Personal Uber data analysis\n",
    "\n",
    "## Get data\n",
    "\n",
    "CONS: Uber redesigned website to React with data obfuscation. This condition makes data parsing super time-consuming task\n",
    "\n",
    "PROS: Uber gives you ability to get all your data by request and 0-2 days of waiting (I waited for 6 hours)\n",
    "\n",
    "https://accounts.uber.com/privacy/exploreyourdata/download\n",
    "\n",
    "## Parse data\n",
    "\n",
    "1. Excel\n",
    "1. https://pistats.io/ (not working, not an ad ;) )\n",
    "1. Pandas\n"
   ]
  },
  {
   "cell_type": "code",
   "execution_count": 1,
   "metadata": {},
   "outputs": [],
   "source": [
    "import pandas as pd\n",
    "import numpy as np\n",
    "\n",
    "from shapely.geometry import Point\n",
    "import geopandas as gpd\n",
    "from geopandas import GeoDataFrame\n",
    "import matplotlib.pyplot as plt\n",
    "from shapely.wkt import dumps, loads"
   ]
  },
  {
   "cell_type": "code",
   "execution_count": 32,
   "metadata": {},
   "outputs": [
    {
     "data": {
      "text/html": [
       "<div>\n",
       "<style scoped>\n",
       "    .dataframe tbody tr th:only-of-type {\n",
       "        vertical-align: middle;\n",
       "    }\n",
       "\n",
       "    .dataframe tbody tr th {\n",
       "        vertical-align: top;\n",
       "    }\n",
       "\n",
       "    .dataframe thead th {\n",
       "        text-align: right;\n",
       "    }\n",
       "</style>\n",
       "<table border=\"1\" class=\"dataframe\">\n",
       "  <thead>\n",
       "    <tr style=\"text-align: right;\">\n",
       "      <th></th>\n",
       "      <th>City</th>\n",
       "      <th>Product Type</th>\n",
       "      <th>Trip or Order Status</th>\n",
       "      <th>Request Time</th>\n",
       "      <th>Begin Trip Time</th>\n",
       "      <th>Begin Trip Lat</th>\n",
       "      <th>Begin Trip Lng</th>\n",
       "      <th>Begin Trip Address</th>\n",
       "      <th>Dropoff Time</th>\n",
       "      <th>Dropoff Lat</th>\n",
       "      <th>Dropoff Lng</th>\n",
       "      <th>Dropoff Address</th>\n",
       "      <th>Distance (miles)</th>\n",
       "      <th>Fare Amount</th>\n",
       "      <th>Fare Currency</th>\n",
       "    </tr>\n",
       "  </thead>\n",
       "  <tbody>\n",
       "    <tr>\n",
       "      <th>817</th>\n",
       "      <td>Zaporizhia</td>\n",
       "      <td>uberX</td>\n",
       "      <td>COMPLETED</td>\n",
       "      <td>2018-01-15 08:58:32 +0000 UTC</td>\n",
       "      <td>2018-01-15 09:05:24 +0000 UTC</td>\n",
       "      <td>47.836742</td>\n",
       "      <td>35.106979</td>\n",
       "      <td>Nyzhn'odniprovs'ka St, 4, Zaporizhzhia, Zapori...</td>\n",
       "      <td>2018-01-15 09:18:29 +0000 UTC</td>\n",
       "      <td>47.841414</td>\n",
       "      <td>35.140080</td>\n",
       "      <td>Sobornyi Ave, 166, Zaporizhzhia, Zaporiz'ka ob...</td>\n",
       "      <td>2.23</td>\n",
       "      <td>43.11</td>\n",
       "      <td>UAH</td>\n",
       "    </tr>\n",
       "    <tr>\n",
       "      <th>317</th>\n",
       "      <td>Zaporizhia</td>\n",
       "      <td>UberX</td>\n",
       "      <td>COMPLETED</td>\n",
       "      <td>2018-08-14 15:14:48 +0000 UTC</td>\n",
       "      <td>2018-08-14 15:25:35 +0000 UTC</td>\n",
       "      <td>47.840466</td>\n",
       "      <td>35.140088</td>\n",
       "      <td>Sobornyi Ave, 166, Zaporizhzhia, Zaporiz'ka ob...</td>\n",
       "      <td>2018-08-14 15:39:39 +0000 UTC</td>\n",
       "      <td>47.839391</td>\n",
       "      <td>35.219030</td>\n",
       "      <td>Charivna St, 131, Zaporizhzhia, Zaporiz'ka obl...</td>\n",
       "      <td>4.62</td>\n",
       "      <td>67.39</td>\n",
       "      <td>UAH</td>\n",
       "    </tr>\n",
       "    <tr>\n",
       "      <th>209</th>\n",
       "      <td>Zaporizhia</td>\n",
       "      <td>UberX</td>\n",
       "      <td>COMPLETED</td>\n",
       "      <td>2018-10-10 17:48:19 +0000 UTC</td>\n",
       "      <td>2018-10-10 17:51:45 +0000 UTC</td>\n",
       "      <td>47.831621</td>\n",
       "      <td>35.163402</td>\n",
       "      <td>Hoholya St, 171, Zaporizhzhia, Zaporiz'ka obla...</td>\n",
       "      <td>2018-10-10 17:58:36 +0000 UTC</td>\n",
       "      <td>47.839335</td>\n",
       "      <td>35.219039</td>\n",
       "      <td>Charivna St, 131, Zaporizhzhia, Zaporiz'ka obl...</td>\n",
       "      <td>3.19</td>\n",
       "      <td>54.24</td>\n",
       "      <td>UAH</td>\n",
       "    </tr>\n",
       "    <tr>\n",
       "      <th>1067</th>\n",
       "      <td>Zaporizhia</td>\n",
       "      <td>uberX</td>\n",
       "      <td>CANCELED</td>\n",
       "      <td>2017-09-08 15:21:10 +0000 UTC</td>\n",
       "      <td>1970-01-01 00:00:00 +0000 UTC</td>\n",
       "      <td>47.817175</td>\n",
       "      <td>35.176443</td>\n",
       "      <td>NaN</td>\n",
       "      <td>1970-01-01 00:00:00 +0000 UTC</td>\n",
       "      <td>47.817145</td>\n",
       "      <td>35.176497</td>\n",
       "      <td>Nyzhn'odniprovs'ka St, 4, Zaporizhzhia, Zapori...</td>\n",
       "      <td>0.00</td>\n",
       "      <td>0.00</td>\n",
       "      <td>UAH</td>\n",
       "    </tr>\n",
       "    <tr>\n",
       "      <th>683</th>\n",
       "      <td>Zaporizhia</td>\n",
       "      <td>uberX</td>\n",
       "      <td>COMPLETED</td>\n",
       "      <td>2018-03-15 17:37:33 +0000 UTC</td>\n",
       "      <td>2018-03-15 17:45:41 +0000 UTC</td>\n",
       "      <td>47.830521</td>\n",
       "      <td>35.160297</td>\n",
       "      <td>Sobornyi Ave, 152В, Zaporizhzhia, Zaporiz'ka o...</td>\n",
       "      <td>2018-03-15 18:05:10 +0000 UTC</td>\n",
       "      <td>47.836581</td>\n",
       "      <td>35.107116</td>\n",
       "      <td>Nyzhn'odniprovs'ka St, 4, Zaporizhzhia, Zapori...</td>\n",
       "      <td>4.02</td>\n",
       "      <td>64.45</td>\n",
       "      <td>UAH</td>\n",
       "    </tr>\n",
       "  </tbody>\n",
       "</table>\n",
       "</div>"
      ],
      "text/plain": [
       "            City Product Type Trip or Order Status  \\\n",
       "817   Zaporizhia        uberX            COMPLETED   \n",
       "317   Zaporizhia        UberX            COMPLETED   \n",
       "209   Zaporizhia        UberX            COMPLETED   \n",
       "1067  Zaporizhia        uberX             CANCELED   \n",
       "683   Zaporizhia        uberX            COMPLETED   \n",
       "\n",
       "                       Request Time                Begin Trip Time  \\\n",
       "817   2018-01-15 08:58:32 +0000 UTC  2018-01-15 09:05:24 +0000 UTC   \n",
       "317   2018-08-14 15:14:48 +0000 UTC  2018-08-14 15:25:35 +0000 UTC   \n",
       "209   2018-10-10 17:48:19 +0000 UTC  2018-10-10 17:51:45 +0000 UTC   \n",
       "1067  2017-09-08 15:21:10 +0000 UTC  1970-01-01 00:00:00 +0000 UTC   \n",
       "683   2018-03-15 17:37:33 +0000 UTC  2018-03-15 17:45:41 +0000 UTC   \n",
       "\n",
       "      Begin Trip Lat  Begin Trip Lng  \\\n",
       "817        47.836742       35.106979   \n",
       "317        47.840466       35.140088   \n",
       "209        47.831621       35.163402   \n",
       "1067       47.817175       35.176443   \n",
       "683        47.830521       35.160297   \n",
       "\n",
       "                                     Begin Trip Address  \\\n",
       "817   Nyzhn'odniprovs'ka St, 4, Zaporizhzhia, Zapori...   \n",
       "317   Sobornyi Ave, 166, Zaporizhzhia, Zaporiz'ka ob...   \n",
       "209   Hoholya St, 171, Zaporizhzhia, Zaporiz'ka obla...   \n",
       "1067                                                NaN   \n",
       "683   Sobornyi Ave, 152В, Zaporizhzhia, Zaporiz'ka o...   \n",
       "\n",
       "                       Dropoff Time  Dropoff Lat  Dropoff Lng  \\\n",
       "817   2018-01-15 09:18:29 +0000 UTC    47.841414    35.140080   \n",
       "317   2018-08-14 15:39:39 +0000 UTC    47.839391    35.219030   \n",
       "209   2018-10-10 17:58:36 +0000 UTC    47.839335    35.219039   \n",
       "1067  1970-01-01 00:00:00 +0000 UTC    47.817145    35.176497   \n",
       "683   2018-03-15 18:05:10 +0000 UTC    47.836581    35.107116   \n",
       "\n",
       "                                        Dropoff Address  Distance (miles)  \\\n",
       "817   Sobornyi Ave, 166, Zaporizhzhia, Zaporiz'ka ob...              2.23   \n",
       "317   Charivna St, 131, Zaporizhzhia, Zaporiz'ka obl...              4.62   \n",
       "209   Charivna St, 131, Zaporizhzhia, Zaporiz'ka obl...              3.19   \n",
       "1067  Nyzhn'odniprovs'ka St, 4, Zaporizhzhia, Zapori...              0.00   \n",
       "683   Nyzhn'odniprovs'ka St, 4, Zaporizhzhia, Zapori...              4.02   \n",
       "\n",
       "      Fare Amount Fare Currency  \n",
       "817         43.11           UAH  \n",
       "317         67.39           UAH  \n",
       "209         54.24           UAH  \n",
       "1067         0.00           UAH  \n",
       "683         64.45           UAH  "
      ]
     },
     "execution_count": 32,
     "metadata": {},
     "output_type": "execute_result"
    }
   ],
   "source": [
    "df = pd.read_csv('./Uber Data/Rider/trips_data.csv')\n",
    "\n",
    "df.sample(frac=0.1).head()"
   ]
  },
  {
   "cell_type": "markdown",
   "metadata": {},
   "source": [
    "## Know how much you've spent"
   ]
  },
  {
   "cell_type": "code",
   "execution_count": 59,
   "metadata": {},
   "outputs": [
    {
     "data": {
      "text/html": [
       "<div>\n",
       "<style scoped>\n",
       "    .dataframe tbody tr th:only-of-type {\n",
       "        vertical-align: middle;\n",
       "    }\n",
       "\n",
       "    .dataframe tbody tr th {\n",
       "        vertical-align: top;\n",
       "    }\n",
       "\n",
       "    .dataframe thead th {\n",
       "        text-align: right;\n",
       "    }\n",
       "</style>\n",
       "<table border=\"1\" class=\"dataframe\">\n",
       "  <thead>\n",
       "    <tr style=\"text-align: right;\">\n",
       "      <th></th>\n",
       "      <th>Fare Amount</th>\n",
       "      <th>Fare Currency</th>\n",
       "      <th>Fare EUR</th>\n",
       "    </tr>\n",
       "  </thead>\n",
       "  <tbody>\n",
       "    <tr>\n",
       "      <th>0</th>\n",
       "      <td>94.05</td>\n",
       "      <td>UAH</td>\n",
       "      <td>3.483333</td>\n",
       "    </tr>\n",
       "    <tr>\n",
       "      <th>1</th>\n",
       "      <td>104.02</td>\n",
       "      <td>UAH</td>\n",
       "      <td>3.852593</td>\n",
       "    </tr>\n",
       "    <tr>\n",
       "      <th>2</th>\n",
       "      <td>65.95</td>\n",
       "      <td>UAH</td>\n",
       "      <td>2.442593</td>\n",
       "    </tr>\n",
       "    <tr>\n",
       "      <th>3</th>\n",
       "      <td>60.57</td>\n",
       "      <td>UAH</td>\n",
       "      <td>2.243333</td>\n",
       "    </tr>\n",
       "    <tr>\n",
       "      <th>4</th>\n",
       "      <td>0.00</td>\n",
       "      <td>UAH</td>\n",
       "      <td>0.000000</td>\n",
       "    </tr>\n",
       "    <tr>\n",
       "      <th>...</th>\n",
       "      <td>...</td>\n",
       "      <td>...</td>\n",
       "      <td>...</td>\n",
       "    </tr>\n",
       "    <tr>\n",
       "      <th>1174</th>\n",
       "      <td>0.00</td>\n",
       "      <td>UAH</td>\n",
       "      <td>0.000000</td>\n",
       "    </tr>\n",
       "    <tr>\n",
       "      <th>1175</th>\n",
       "      <td>64.45</td>\n",
       "      <td>UAH</td>\n",
       "      <td>2.387037</td>\n",
       "    </tr>\n",
       "    <tr>\n",
       "      <th>1176</th>\n",
       "      <td>31.94</td>\n",
       "      <td>UAH</td>\n",
       "      <td>1.182963</td>\n",
       "    </tr>\n",
       "    <tr>\n",
       "      <th>1177</th>\n",
       "      <td>0.00</td>\n",
       "      <td>UAH</td>\n",
       "      <td>0.000000</td>\n",
       "    </tr>\n",
       "    <tr>\n",
       "      <th>1178</th>\n",
       "      <td>22.32</td>\n",
       "      <td>UAH</td>\n",
       "      <td>0.826667</td>\n",
       "    </tr>\n",
       "  </tbody>\n",
       "</table>\n",
       "<p>1179 rows × 3 columns</p>\n",
       "</div>"
      ],
      "text/plain": [
       "      Fare Amount Fare Currency  Fare EUR\n",
       "0           94.05           UAH  3.483333\n",
       "1          104.02           UAH  3.852593\n",
       "2           65.95           UAH  2.442593\n",
       "3           60.57           UAH  2.243333\n",
       "4            0.00           UAH  0.000000\n",
       "...           ...           ...       ...\n",
       "1174         0.00           UAH  0.000000\n",
       "1175        64.45           UAH  2.387037\n",
       "1176        31.94           UAH  1.182963\n",
       "1177         0.00           UAH  0.000000\n",
       "1178        22.32           UAH  0.826667\n",
       "\n",
       "[1179 rows x 3 columns]"
      ]
     },
     "execution_count": 59,
     "metadata": {},
     "output_type": "execute_result"
    }
   ],
   "source": [
    "df['Fare EUR'] = df['Fare Amount'] / df['Fare Currency'].map(lambda c: 27 if c == 'UAH' else 1)\n",
    "df[['Fare Amount', 'Fare Currency','Fare EUR']] "
   ]
  },
  {
   "cell_type": "code",
   "execution_count": 61,
   "metadata": {},
   "outputs": [
    {
     "data": {
      "text/plain": [
       "count    1179.000000\n",
       "mean        1.777784\n",
       "std         2.433122\n",
       "min         0.000000\n",
       "25%         0.000000\n",
       "50%         1.666667\n",
       "75%         2.548148\n",
       "max        43.640000\n",
       "Name: Fare EUR, dtype: float64"
      ]
     },
     "execution_count": 61,
     "metadata": {},
     "output_type": "execute_result"
    }
   ],
   "source": [
    "#df['Fare EUR'].sum()\n",
    "df['Fare EUR'].describe()"
   ]
  },
  {
   "cell_type": "code",
   "execution_count": 68,
   "metadata": {},
   "outputs": [
    {
     "data": {
      "text/html": [
       "<div>\n",
       "<style scoped>\n",
       "    .dataframe tbody tr th:only-of-type {\n",
       "        vertical-align: middle;\n",
       "    }\n",
       "\n",
       "    .dataframe tbody tr th {\n",
       "        vertical-align: top;\n",
       "    }\n",
       "\n",
       "    .dataframe thead th {\n",
       "        text-align: right;\n",
       "    }\n",
       "</style>\n",
       "<table border=\"1\" class=\"dataframe\">\n",
       "  <thead>\n",
       "    <tr style=\"text-align: right;\">\n",
       "      <th></th>\n",
       "      <th>count</th>\n",
       "      <th>mean</th>\n",
       "      <th>std</th>\n",
       "      <th>min</th>\n",
       "      <th>25%</th>\n",
       "      <th>50%</th>\n",
       "      <th>75%</th>\n",
       "      <th>max</th>\n",
       "    </tr>\n",
       "    <tr>\n",
       "      <th>City</th>\n",
       "      <th></th>\n",
       "      <th></th>\n",
       "      <th></th>\n",
       "      <th></th>\n",
       "      <th></th>\n",
       "      <th></th>\n",
       "      <th></th>\n",
       "      <th></th>\n",
       "    </tr>\n",
       "  </thead>\n",
       "  <tbody>\n",
       "    <tr>\n",
       "      <th>Kyiv</th>\n",
       "      <td>69.0</td>\n",
       "      <td>3.313924</td>\n",
       "      <td>2.909695</td>\n",
       "      <td>0.0</td>\n",
       "      <td>2.297037</td>\n",
       "      <td>2.858148</td>\n",
       "      <td>3.695556</td>\n",
       "      <td>18.968889</td>\n",
       "    </tr>\n",
       "    <tr>\n",
       "      <th>Paris</th>\n",
       "      <td>8.0</td>\n",
       "      <td>19.595000</td>\n",
       "      <td>15.367146</td>\n",
       "      <td>0.0</td>\n",
       "      <td>11.122500</td>\n",
       "      <td>15.035000</td>\n",
       "      <td>28.480000</td>\n",
       "      <td>43.640000</td>\n",
       "    </tr>\n",
       "    <tr>\n",
       "      <th>Stockholm</th>\n",
       "      <td>1.0</td>\n",
       "      <td>0.000000</td>\n",
       "      <td>NaN</td>\n",
       "      <td>0.0</td>\n",
       "      <td>0.000000</td>\n",
       "      <td>0.000000</td>\n",
       "      <td>0.000000</td>\n",
       "      <td>0.000000</td>\n",
       "    </tr>\n",
       "    <tr>\n",
       "      <th>Tallinn</th>\n",
       "      <td>7.0</td>\n",
       "      <td>4.430000</td>\n",
       "      <td>2.155984</td>\n",
       "      <td>0.0</td>\n",
       "      <td>4.280000</td>\n",
       "      <td>4.840000</td>\n",
       "      <td>5.585000</td>\n",
       "      <td>6.440000</td>\n",
       "    </tr>\n",
       "    <tr>\n",
       "      <th>Zaporizhia</th>\n",
       "      <td>1094.0</td>\n",
       "      <td>1.535262</td>\n",
       "      <td>1.317772</td>\n",
       "      <td>0.0</td>\n",
       "      <td>0.000000</td>\n",
       "      <td>1.631296</td>\n",
       "      <td>2.499074</td>\n",
       "      <td>6.807407</td>\n",
       "    </tr>\n",
       "  </tbody>\n",
       "</table>\n",
       "</div>"
      ],
      "text/plain": [
       "             count       mean        std  min        25%        50%  \\\n",
       "City                                                                  \n",
       "Kyiv          69.0   3.313924   2.909695  0.0   2.297037   2.858148   \n",
       "Paris          8.0  19.595000  15.367146  0.0  11.122500  15.035000   \n",
       "Stockholm      1.0   0.000000        NaN  0.0   0.000000   0.000000   \n",
       "Tallinn        7.0   4.430000   2.155984  0.0   4.280000   4.840000   \n",
       "Zaporizhia  1094.0   1.535262   1.317772  0.0   0.000000   1.631296   \n",
       "\n",
       "                  75%        max  \n",
       "City                              \n",
       "Kyiv         3.695556  18.968889  \n",
       "Paris       28.480000  43.640000  \n",
       "Stockholm    0.000000   0.000000  \n",
       "Tallinn      5.585000   6.440000  \n",
       "Zaporizhia   2.499074   6.807407  "
      ]
     },
     "execution_count": 68,
     "metadata": {},
     "output_type": "execute_result"
    }
   ],
   "source": [
    "df.groupby(['City'])['Fare EUR'].describe()"
   ]
  },
  {
   "cell_type": "markdown",
   "metadata": {},
   "source": [
    "## Know where you took the rides (super demo version, use JS for visualization)"
   ]
  },
  {
   "cell_type": "code",
   "execution_count": 3,
   "metadata": {},
   "outputs": [
    {
     "name": "stdout",
     "output_type": "stream",
     "text": [
      "fixed france for europe\n"
     ]
    },
    {
     "name": "stderr",
     "output_type": "stream",
     "text": [
      "/anaconda3/lib/python3.7/site-packages/ipykernel_launcher.py:3: SettingWithCopyWarning: \n",
      "A value is trying to be set on a copy of a slice from a DataFrame.\n",
      "Try using .loc[row_indexer,col_indexer] = value instead\n",
      "\n",
      "See the caveats in the documentation: http://pandas.pydata.org/pandas-docs/stable/user_guide/indexing.html#returning-a-view-versus-a-copy\n",
      "  This is separate from the ipykernel package so we can avoid doing imports until\n"
     ]
    }
   ],
   "source": [
    "# FIX FOR FRANCE'S LAND IN AMERICA\n",
    "world = gpd.read_file(gpd.datasets.get_path('naturalearth_lowres'))\n",
    "france = world[world.name == 'France']\n",
    "france['geometry']= [loads('MULTIPOLYGON (((6.186320428094177 49.46380280211451, 6.658229607783568 49.20195831969157, 8.099278598674744 49.01778351500333, 7.593676385131062 48.33301911070372, 7.466759067422231 47.62058197691181, 7.192202182655507 47.44976552997102, 6.736571079138059 47.54180125588285, 6.768713820023606 47.2877082383037, 6.037388950229001 46.72577871356187, 6.022609490593538 46.27298981382047, 6.500099724970426 46.42967275652944, 6.843592970414505 45.99114655210061, 6.802355177445605 45.70857982032864, 7.096652459347837 45.33309886329589, 6.749955275101655 45.02851797136758, 7.007562290076635 44.25476675066136, 7.549596388386107 44.12790110938481, 7.435184767291872 43.69384491634922, 6.52924523278304 43.12889232031831, 4.556962517931424 43.3996509873116, 3.100410597352663 43.07520050716705, 2.985998976258458 42.47301504166986, 1.826793247087153 42.34338471126569, 0.7015906103638941 42.79573436133261, 0.3380469091905809 42.57954600683955, -1.502770961910528 43.03401439063043, -1.901351284177764 43.42280202897834, -1.384225226232985 44.02261037859012, -1.193797573237418 46.01491771095486, -2.225724249673846 47.06436269793822, -2.963276129559603 47.57032664650795, -4.491554938159481 47.95495433205637, -4.592349819344776 48.68416046812699, -3.295813971357802 48.90169240985963, -1.616510789384961 48.64442129169454, -1.933494025063311 49.77634186461574, -0.98946895995536 49.34737580016091, 1.338761020522696 50.12717316344526, 1.6390010921385 50.9466063502975, 2.513573032246143 51.14850617126183, 2.658422071960274 50.79684804951575, 3.123251580425688 50.78036326761455, 3.588184441755658 50.37899241800356, 4.286022983425084 49.90749664977255, 4.799221632515724 49.98537303323637, 5.674051954784829 49.5294835475575, 5.897759230176348 49.44266714130711, 6.186320428094177 49.46380280211451)), ((8.746009148807559 42.62812185319392, 9.390000848028876 43.00998484961471, 9.560016310269134 42.15249197037952, 9.229752231491773 41.38000682226446, 8.775723097375362 41.58361196549443, 8.544212680707773 42.25651662858306, 8.746009148807559 42.62812185319392)))')]\n",
    "world[world.name == 'France'] = france\n",
    "print(\"fixed france for europe\")"
   ]
  },
  {
   "cell_type": "code",
   "execution_count": 6,
   "metadata": {},
   "outputs": [
    {
     "name": "stderr",
     "output_type": "stream",
     "text": [
      "/anaconda3/lib/python3.7/site-packages/geopandas/geodataframe.py:557: UserWarning: Boolean Series key will be reindexed to match DataFrame index.\n",
      "  result = super(GeoDataFrame, self).__getitem__(key)\n"
     ]
    },
    {
     "data": {
      "text/plain": [
       "<matplotlib.axes._subplots.AxesSubplot at 0x120e1d9b0>"
      ]
     },
     "execution_count": 6,
     "metadata": {},
     "output_type": "execute_result"
    },
    {
     "data": {
      "image/png": "[encoded data removed]",
      "text/plain": [
       "<Figure size 1440x720 with 1 Axes>"
      ]
     },
     "metadata": {
      "needs_background": "light"
     },
     "output_type": "display_data"
    }
   ],
   "source": [
    "geometry = [Point(xy) for xy in zip(df['Begin Trip Lng'], df['Begin Trip Lat'])]\n",
    "gdf = GeoDataFrame(df, geometry=geometry)\n",
    "# gpd.choropleth(world, hue=world['gdp_md_est'] / world['pop_est'],\n",
    "#     cmap='Greens', figsize=(8, 4)\n",
    "# )\n",
    "ax = world[world.continent == 'Europe'][world.name != 'Russia'][world.name != 'Russia'].plot(\n",
    "    color='white', edgecolor='black', figsize=(20,10))\n",
    "gdf.plot(ax=ax, color='red')"
   ]
  },
  {
   "cell_type": "code",
   "execution_count": 8,
   "metadata": {},
   "outputs": [
    {
     "name": "stderr",
     "output_type": "stream",
     "text": [
      "/anaconda3/lib/python3.7/site-packages/geopandas/geodataframe.py:557: UserWarning: Boolean Series key will be reindexed to match DataFrame index.\n",
      "  result = super(GeoDataFrame, self).__getitem__(key)\n"
     ]
    },
    {
     "data": {
      "text/plain": [
       "<matplotlib.axes._subplots.AxesSubplot at 0x109dd8c50>"
      ]
     },
     "execution_count": 8,
     "metadata": {},
     "output_type": "execute_result"
    },
    {
     "data": {
      "image/png": "[encoded data removed]",
      "text/plain": [
       "<Figure size 1440x720 with 1 Axes>"
      ]
     },
     "metadata": {
      "needs_background": "light"
     },
     "output_type": "display_data"
    }
   ],
   "source": [
    "ua_df = df[df['Fare Currency']=='UAH']\n",
    "geometry = [Point(xy) for xy in zip(ua_df['Begin Trip Lng'], ua_df['Begin Trip Lat'])]\n",
    "gdf = GeoDataFrame(ua_df, geometry=geometry)\n",
    "# gpd.choropleth(world, hue=world['gdp_md_est'] / world['pop_est'],\n",
    "#     cmap='Greens', figsize=(8, 4)\n",
    "# )\n",
    "ax = world[world.name == 'Ukraine'].plot(\n",
    "    color='white', edgecolor='black', figsize=(20,10))\n",
    "gdf.plot(ax=ax, color='red')"
   ]
  },
  {
   "cell_type": "markdown",
   "metadata": {},
   "source": [
    "## Basic ML with your data\n",
    "\n",
    "* We can use scikit-learn to briefly estimate future rides\n",
    "* Model will predict future ride price based on past data\n",
    "* Features can be lenght of ride, starting latitude and longitude(in buckets), ride's request time\n",
    "* Labels will be ride price\n",
    "* To be more creative and correct, take past weather data and use it as features(can be in buckets also)\n",
    "\n",
    "### My first AI project. You can put two points on map and get price of taxi ride\n",
    "![](./first_ai_project.png)\n",
    "\n",
    "\n",
    "## Super small machine learning model example\n",
    "\n",
    "* Features: distance of ride, request time\n",
    "* Label: ride price\n"
   ]
  },
  {
   "cell_type": "code",
   "execution_count": 15,
   "metadata": {},
   "outputs": [],
   "source": [
    "from sklearn import datasets, linear_model\n",
    "from sklearn.metrics import mean_squared_error, r2_score\n",
    "import datetime"
   ]
  },
  {
   "cell_type": "markdown",
   "metadata": {},
   "source": [
    "### Distance will be intact, Request time will be converted into integers and scaled"
   ]
  },
  {
   "cell_type": "code",
   "execution_count": 12,
   "metadata": {},
   "outputs": [],
   "source": [
    "uber_X = pd.DataFrame(df[['Distance (miles)', 'Request Time']])\n",
    "def time_to_sec(dt):\n",
    "    t = dt.time()\n",
    "    return int(datetime.timedelta(hours=t.hour, minutes=t.minute, seconds=t.second).total_seconds())\n",
    "\n",
    "uber_X['Request Time'] = pd.to_datetime(uber_X['Request Time'].apply(lambda x: x[:len('2017-09-05 15:20:53')])).apply(time_to_sec)"
   ]
  },
  {
   "cell_type": "markdown",
   "metadata": {},
   "source": [
    "* 00:00:00 = 0\n",
    "* 00:00:01 = 1\n",
    "* 00:01:00 = 60\n",
    "* 15:00:00 = 54000"
   ]
  },
  {
   "cell_type": "code",
   "execution_count": 80,
   "metadata": {},
   "outputs": [
    {
     "data": {
      "text/html": [
       "<div>\n",
       "<style scoped>\n",
       "    .dataframe tbody tr th:only-of-type {\n",
       "        vertical-align: middle;\n",
       "    }\n",
       "\n",
       "    .dataframe tbody tr th {\n",
       "        vertical-align: top;\n",
       "    }\n",
       "\n",
       "    .dataframe thead th {\n",
       "        text-align: right;\n",
       "    }\n",
       "</style>\n",
       "<table border=\"1\" class=\"dataframe\">\n",
       "  <thead>\n",
       "    <tr style=\"text-align: right;\">\n",
       "      <th></th>\n",
       "      <th>Distance (miles)</th>\n",
       "      <th>Request Time</th>\n",
       "    </tr>\n",
       "  </thead>\n",
       "  <tbody>\n",
       "    <tr>\n",
       "      <th>0</th>\n",
       "      <td>8.23</td>\n",
       "      <td>22465</td>\n",
       "    </tr>\n",
       "    <tr>\n",
       "      <th>1</th>\n",
       "      <td>8.47</td>\n",
       "      <td>18426</td>\n",
       "    </tr>\n",
       "    <tr>\n",
       "      <th>2</th>\n",
       "      <td>4.29</td>\n",
       "      <td>54522</td>\n",
       "    </tr>\n",
       "    <tr>\n",
       "      <th>3</th>\n",
       "      <td>3.54</td>\n",
       "      <td>52868</td>\n",
       "    </tr>\n",
       "    <tr>\n",
       "      <th>4</th>\n",
       "      <td>0.00</td>\n",
       "      <td>46422</td>\n",
       "    </tr>\n",
       "    <tr>\n",
       "      <th>...</th>\n",
       "      <td>...</td>\n",
       "      <td>...</td>\n",
       "    </tr>\n",
       "    <tr>\n",
       "      <th>1174</th>\n",
       "      <td>0.00</td>\n",
       "      <td>17964</td>\n",
       "    </tr>\n",
       "    <tr>\n",
       "      <th>1175</th>\n",
       "      <td>7.53</td>\n",
       "      <td>61470</td>\n",
       "    </tr>\n",
       "    <tr>\n",
       "      <th>1176</th>\n",
       "      <td>2.48</td>\n",
       "      <td>56852</td>\n",
       "    </tr>\n",
       "    <tr>\n",
       "      <th>1177</th>\n",
       "      <td>0.00</td>\n",
       "      <td>56772</td>\n",
       "    </tr>\n",
       "    <tr>\n",
       "      <th>1178</th>\n",
       "      <td>0.98</td>\n",
       "      <td>56180</td>\n",
       "    </tr>\n",
       "  </tbody>\n",
       "</table>\n",
       "<p>1179 rows × 2 columns</p>\n",
       "</div>"
      ],
      "text/plain": [
       "      Distance (miles)  Request Time\n",
       "0                 8.23         22465\n",
       "1                 8.47         18426\n",
       "2                 4.29         54522\n",
       "3                 3.54         52868\n",
       "4                 0.00         46422\n",
       "...                ...           ...\n",
       "1174              0.00         17964\n",
       "1175              7.53         61470\n",
       "1176              2.48         56852\n",
       "1177              0.00         56772\n",
       "1178              0.98         56180\n",
       "\n",
       "[1179 rows x 2 columns]"
      ]
     },
     "execution_count": 80,
     "metadata": {},
     "output_type": "execute_result"
    }
   ],
   "source": [
    "uber_X"
   ]
  },
  {
   "cell_type": "code",
   "execution_count": 69,
   "metadata": {},
   "outputs": [
    {
     "data": {
      "text/html": [
       "<div>\n",
       "<style scoped>\n",
       "    .dataframe tbody tr th:only-of-type {\n",
       "        vertical-align: middle;\n",
       "    }\n",
       "\n",
       "    .dataframe tbody tr th {\n",
       "        vertical-align: top;\n",
       "    }\n",
       "\n",
       "    .dataframe thead th {\n",
       "        text-align: right;\n",
       "    }\n",
       "</style>\n",
       "<table border=\"1\" class=\"dataframe\">\n",
       "  <thead>\n",
       "    <tr style=\"text-align: right;\">\n",
       "      <th></th>\n",
       "      <th>Fare EUR</th>\n",
       "    </tr>\n",
       "  </thead>\n",
       "  <tbody>\n",
       "    <tr>\n",
       "      <th>0</th>\n",
       "      <td>3.483333</td>\n",
       "    </tr>\n",
       "    <tr>\n",
       "      <th>1</th>\n",
       "      <td>3.852593</td>\n",
       "    </tr>\n",
       "    <tr>\n",
       "      <th>2</th>\n",
       "      <td>2.442593</td>\n",
       "    </tr>\n",
       "    <tr>\n",
       "      <th>3</th>\n",
       "      <td>2.243333</td>\n",
       "    </tr>\n",
       "    <tr>\n",
       "      <th>4</th>\n",
       "      <td>0.000000</td>\n",
       "    </tr>\n",
       "    <tr>\n",
       "      <th>...</th>\n",
       "      <td>...</td>\n",
       "    </tr>\n",
       "    <tr>\n",
       "      <th>1174</th>\n",
       "      <td>0.000000</td>\n",
       "    </tr>\n",
       "    <tr>\n",
       "      <th>1175</th>\n",
       "      <td>2.387037</td>\n",
       "    </tr>\n",
       "    <tr>\n",
       "      <th>1176</th>\n",
       "      <td>1.182963</td>\n",
       "    </tr>\n",
       "    <tr>\n",
       "      <th>1177</th>\n",
       "      <td>0.000000</td>\n",
       "    </tr>\n",
       "    <tr>\n",
       "      <th>1178</th>\n",
       "      <td>0.826667</td>\n",
       "    </tr>\n",
       "  </tbody>\n",
       "</table>\n",
       "<p>1179 rows × 1 columns</p>\n",
       "</div>"
      ],
      "text/plain": [
       "      Fare EUR\n",
       "0     3.483333\n",
       "1     3.852593\n",
       "2     2.442593\n",
       "3     2.243333\n",
       "4     0.000000\n",
       "...        ...\n",
       "1174  0.000000\n",
       "1175  2.387037\n",
       "1176  1.182963\n",
       "1177  0.000000\n",
       "1178  0.826667\n",
       "\n",
       "[1179 rows x 1 columns]"
      ]
     },
     "execution_count": 69,
     "metadata": {},
     "output_type": "execute_result"
    }
   ],
   "source": [
    "uber_Y = pd.DataFrame(df[['Fare EUR']])\n",
    "uber_Y"
   ]
  },
  {
   "cell_type": "markdown",
   "metadata": {},
   "source": [
    "### Let's train model"
   ]
  },
  {
   "cell_type": "code",
   "execution_count": 70,
   "metadata": {},
   "outputs": [
    {
     "data": {
      "text/plain": [
       "LinearRegression(copy_X=True, fit_intercept=True, n_jobs=None,\n",
       "         normalize=False)"
      ]
     },
     "execution_count": 70,
     "metadata": {},
     "output_type": "execute_result"
    }
   ],
   "source": [
    "regr = linear_model.LinearRegression()\n",
    "\n",
    "# Train the model using the training sets\n",
    "regr.fit(uber_X, uber_Y)"
   ]
  },
  {
   "cell_type": "markdown",
   "metadata": {},
   "source": [
    "### We want to take 8 mi ride at 15:00"
   ]
  },
  {
   "cell_type": "code",
   "execution_count": 87,
   "metadata": {},
   "outputs": [
    {
     "data": {
      "text/plain": [
       "1.2415598008247335"
      ]
     },
     "execution_count": 87,
     "metadata": {},
     "output_type": "execute_result"
    }
   ],
   "source": [
    "# 54000 == 15:00 or 3 PM\n",
    "regr.predict([[2, 54000]])[0][0]"
   ]
  },
  {
   "cell_type": "code",
   "execution_count": null,
   "metadata": {},
   "outputs": [],
   "source": []
  }
 ],
 "metadata": {
  "kernelspec": {
   "display_name": "Python 3",
   "language": "python",
   "name": "python3"
  },
  "language_info": {
   "codemirror_mode": {
    "name": "ipython",
    "version": 3
   },
   "file_extension": ".py",
   "mimetype": "text/x-python",
   "name": "python",
   "nbconvert_exporter": "python",
   "pygments_lexer": "ipython3",
   "version": "3.7.3"
  }
 },
 "nbformat": 4,
 "nbformat_minor": 2
}
